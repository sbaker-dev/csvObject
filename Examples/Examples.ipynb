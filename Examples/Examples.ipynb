{
 "cells": [
  {
   "cell_type": "markdown",
   "metadata": {
    "collapsed": true,
    "pycharm": {
     "name": "#%% md\n"
    }
   },
   "source": [
    "# Examples\n",
    "\n",
    "This notebook is designed to show how csvObject can work. csvObject is just a simple object base approach to loading in\n",
    "a csv file and using the data. In more complex cases when doing actual data analysis or changing the structure of the \n",
    "file, using [pandas](https://github.com/pandas-dev/pandas) makes much more sense. But if all you want is to have a light\n",
    "weight way of extracting the data from the csv file parsed into an object with a few basic options without Numpy then \n",
    "this may be of interest."
   ]
  },
  {
   "cell_type": "code",
   "execution_count": 1,
   "outputs": [
    {
     "name": "stdout",
     "text": [
      "Loaded Example Data.csv and setup environment\n"
     ],
     "output_type": "stream"
    }
   ],
   "source": [
    "from csvObject import CsvObject, write_csv\n",
    "\n",
    "file_name = \"Example Data.csv\"\n",
    "print(f\"Loaded {file_name} and setup environment\")\n"
   ],
   "metadata": {
    "collapsed": false,
    "pycharm": {
     "name": "#%%\n",
     "is_executing": false
    }
   }
  },
  {
   "cell_type": "markdown",
   "source": [
    "### Simple case\n",
    "\n",
    "In this case you just pass the path to the csv file that you want to load, which is the only mandatory argument, and\n",
    "then you can access the files row content by calling the row data property of the class object. If you choose to print\n",
    "the object, it will return the name of the file, which along side the path can be accessed by their own attributes, as\n",
    "well as the row dimensions and, if they have been set, column dimensions."
   ],
   "metadata": {
    "collapsed": false,
    "pycharm": {
     "name": "#%% md\n"
    }
   }
  },
  {
   "cell_type": "code",
   "execution_count": 3,
   "outputs": [
    {
     "name": "stdout",
     "text": [
      "[['Mitten', '17.5', 'Taby', '5550112', 'FALSE'], ['Squitten', 'NA', 'Tortoiseshell', '', 'TRUE']]\n",
      "Example Data.csv: Rows:5\n"
     ],
     "output_type": "stream"
    }
   ],
   "source": [
    "csv_object = CsvObject(\"Example Data.csv\")\n",
    "print(csv_object.row_data)\n",
    "print(csv_object)"
   ],
   "metadata": {
    "collapsed": false,
    "pycharm": {
     "name": "#%%\n",
     "is_executing": false
    }
   }
  },
  {
   "cell_type": "markdown",
   "source": [
    "### Headers\n",
    "\n",
    "Headers are loaded and summed to be present by default. You can call the headers property to have the headers returned \n",
    "to you as a list. However if you don't have headers, you can set file_headers to be false so that the first line of data\n",
    "is stored within the row data rather than assigned to headers. In this case you can still call headers, but it will \n",
    "default to Untitled_1 ... Untitled_N etc. You can then reset headers to have a meaningful list of names if you have them\n",
    "on hand, but keep in mind that no checks are placed on new headers so if they are of the wrong dimension that is on you! "
   ],
   "metadata": {
    "collapsed": false,
    "pycharm": {
     "name": "#%% md\n"
    }
   }
  },
  {
   "cell_type": "code",
   "execution_count": 11,
   "outputs": [
    {
     "name": "stdout",
     "text": [
      "['Cat Name', 'Age', 'Breed', 'Owner Number', 'Untitled_5']\n",
      "['Untitled_1', 'Untitled_2', 'Untitled_3', 'Untitled_4', 'Untitled_5']\n",
      "[['Cat Name', 'Age', 'Breed', 'Owner Number', ''], ['Mitten', '17.5', 'Taby', '5550112', 'FALSE'], ['Squitten', '10.2', 'Tortoiseshell', '', 'TRUE']]\n",
      "A\n"
     ],
     "output_type": "stream"
    }
   ],
   "source": [
    "# Headers of our previous object, stored as a list\n",
    "csv_object = CsvObject(\"Example Data.csv\")\n",
    "header_list = csv_object.headers\n",
    "print(csv_object.headers)\n",
    "\n",
    "# Re setting the object, as if there where no headers\n",
    "csv_object = CsvObject(\"Example Data.csv\", file_headers=False)\n",
    "print(csv_object.headers)\n",
    "print(csv_object.row_data)\n",
    "\n",
    "# Giving the headers meaningful output\n",
    "csv_object.headers = header_list\n",
    "print(csv_object.headers)"
   ],
   "metadata": {
    "collapsed": false,
    "pycharm": {
     "name": "#%%\n",
     "is_executing": false
    }
   }
  },
  {
   "cell_type": "markdown",
   "source": [
    "### Typing\n",
    "\n",
    "You have multiple ways of providing typing to the data, which is designed to be as forgiving as possible. By default,\n",
    "when you do not specify typing, then all data is loaded as strings. If you assign a single type to column_types, then\n",
    "all data will be set to that type if possible, and set to a string otherwise. CsvObject will by default give you a \n",
    "warning showing you the column-row-value-type error stored as a list of lists. This data can also be retrieved by \n",
    "calling the invalid_type property.\n",
    "\n",
    "If you have knowledge of what the column types will be, you can also pass a list of types, and the data will be loaded \n",
    "via that type. \n",
    "\n",
    "A common reason for typing errors is missing values. If you turn missing_to_zero then any missing values or miss typed\n",
    "values, such as \"NA\", will be set to a float of zero instead. \n",
    "\n",
    "Also if you want to load the data as is and without warnings, you can just turn them off."
   ],
   "metadata": {
    "collapsed": false
   }
  },
  {
   "cell_type": "code",
   "execution_count": 19,
   "outputs": [
    {
     "name": "stdout",
     "text": [
      "# Uniform Typing #\n",
      "Warning: The following column-row-value-type where not correct so loaded as strings:\n",
      "[[1, 2, 'Mitten', <class 'int'>], [1, 3, 'Squitten', <class 'int'>], [2, 2, '17.5', <class 'int'>], [2, 3, 'NA', <class 'int'>], [3, 2, 'Taby', <class 'int'>], [3, 3, 'Tortoiseshell', <class 'int'>], [4, 3, '', <class 'int'>], [5, 2, 'FALSE', <class 'int'>], [5, 3, 'TRUE', <class 'int'>]]\n",
      "\n",
      "[['Mitten', '17.5', 'Taby', 5550112, 'FALSE'], ['Squitten', 'NA', 'Tortoiseshell', '', 'TRUE']]\n",
      "[[1, 2, 'Mitten', <class 'int'>], [2, 2, '17.5', <class 'int'>], [3, 2, 'Taby', <class 'int'>], [5, 2, 'FALSE', <class 'int'>], [1, 3, 'Squitten', <class 'int'>], [2, 3, 'NA', <class 'int'>], [3, 3, 'Tortoiseshell', <class 'int'>], [4, 3, '', <class 'int'>], [5, 3, 'TRUE', <class 'int'>]]\n",
      "\n",
      "# List element Typing #\n",
      "Warning: The following column-row-value-type where not correct so loaded as strings:\n",
      "[[2, 3, 'NA', <class 'float'>], [4, 3, '', <class 'int'>]]\n",
      "[['Mitten', 17.5, 'Taby', 5550112, False], ['Squitten', 'NA', 'Tortoiseshell', '', True]]\n",
      "\n",
      "# List element Typing with missing set to zero #\n",
      "[['Mitten', 17.5, 'Taby', 5550112.0, False], ['Squitten', 0.0, 'Tortoiseshell', 0.0, True]]\n",
      "\n",
      "# Turning Warnings off #\n",
      "[['Mitten', 17.5, 'Taby', 5550112, False], ['Squitten', 'NA', 'Tortoiseshell', '', True]]\n",
      "\n"
     ],
     "output_type": "stream"
    }
   ],
   "source": [
    "print(\"# Uniform Typing #\")\n",
    "csv_object = CsvObject(\"Example Data.csv\", column_types=int)\n",
    "print(\"\")\n",
    "print(csv_object.row_data)\n",
    "print(csv_object.invalid_typed)\n",
    "print(\"\")\n",
    "\n",
    "print(\"# List element Typing #\")\n",
    "csv_object = CsvObject(\"Example Data.csv\", column_types=[str, float, str, int, bool])\n",
    "print(csv_object.row_data)\n",
    "print(\"\")\n",
    "\n",
    "print(\"# List element Typing with missing set to zero #\")\n",
    "csv_object = CsvObject(\"Example Data.csv\", column_types=[str, float, str, float, bool], missing_to_zero=True)\n",
    "print(csv_object.row_data)\n",
    "print(\"\")\n",
    "\n",
    "print(\"# Turning Warnings off #\")\n",
    "csv_object = CsvObject(\"Example Data.csv\", column_types=[str, float, str, int, bool], print_warnings=False)\n",
    "print(csv_object.row_data)\n",
    "print(\"\")"
   ],
   "metadata": {
    "collapsed": false,
    "pycharm": {
     "name": "#%%\n",
     "is_executing": false
    }
   }
  },
  {
   "cell_type": "markdown",
   "source": [
    "### Column data\n",
    "\n",
    "You may also load data in with column data as well as row data by setting set_columns to be True. This is not on by \n",
    "default **and may be slow for very large data sets**. If you ever just print the object, then it will tell you the file\n",
    "name of the file that was loaded, as well as the column dimensions (if set), and row dimensions. \n",
    "\n",
    "If column data has been set, you can also use indexing of the loaded object to return that column of data. The getitem \n",
    "will allow you to pass either the index of the column, or the name of the header of that column. If you ever need the \n",
    "index of a given header, you can also call if from index_from_headers"
   ],
   "metadata": {
    "collapsed": false,
    "pycharm": {
     "name": "#%% md\n",
     "is_executing": false
    }
   }
  },
  {
   "cell_type": "code",
   "execution_count": 5,
   "outputs": [
    {
     "name": "stdout",
     "text": [
      "[['Mitten', 'Squitten'], ['17.5', 'NA'], ['Taby', 'Tortoiseshell'], ['5550112', ''], ['FALSE', 'TRUE']]\n",
      "Example Data.csv: Column:2 by Rows:5\n",
      "['5550112', '']\n",
      "['Mitten', 'Squitten']\n"
     ],
     "output_type": "stream"
    }
   ],
   "source": [
    "csv_object = CsvObject(\"Example Data.csv\", set_columns=True)\n",
    "print(csv_object.column_data)\n",
    "print(csv_object)\n",
    "\n",
    "header_indexing = csv_object['Owner Number']\n",
    "print(header_indexing)\n",
    "\n",
    "cat_name_index = csv_object.index_from_headers(\"Cat Name\")\n",
    "int_indexing = csv_object[cat_name_index]\n",
    "print(int_indexing)"
   ],
   "metadata": {
    "collapsed": false,
    "pycharm": {
     "name": "#%%\n",
     "is_executing": false
    }
   }
  }
 ],
 "metadata": {
  "kernelspec": {
   "display_name": "Python 3",
   "language": "python",
   "name": "python3"
  },
  "language_info": {
   "codemirror_mode": {
    "name": "ipython",
    "version": 2
   },
   "file_extension": ".py",
   "mimetype": "text/x-python",
   "name": "python",
   "nbconvert_exporter": "python",
   "pygments_lexer": "ipython2",
   "version": "2.7.6"
  },
  "pycharm": {
   "stem_cell": {
    "cell_type": "raw",
    "source": [],
    "metadata": {
     "collapsed": false
    }
   }
  }
 },
 "nbformat": 4,
 "nbformat_minor": 0
}